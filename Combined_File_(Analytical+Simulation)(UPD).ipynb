{
  "cells": [
    {
      "cell_type": "markdown",
      "metadata": {
        "id": "view-in-github",
        "colab_type": "text"
      },
      "source": [
        "<a href=\"https://colab.research.google.com/github/nitit2001/mxm-project/blob/main/Combined_File_(Analytical%2BSimulation)(UPD).ipynb\" target=\"_parent\"><img src=\"https://colab.research.google.com/assets/colab-badge.svg\" alt=\"Open In Colab\"/></a>"
      ]
    },
    {
      "cell_type": "markdown",
      "metadata": {
        "collapsed": false,
        "id": "5pBZgs4pC7bC"
      },
      "source": [
        "# Combined File (Analytical+Simulation).ipynb\n",
        "\n",
        "DOCUMENT OVERVIEW: This document contains codes for replicating the Figure 3 of Parks and Goldman (2014) with simulation data. The parameter searching process is based on the analytical calculation in the Latex file. \n",
        "\n",
        "\n",
        "Understanding this document requires familiarity with the content of the analytic results in the paper.\n"
      ]
    },
    {
      "cell_type": "markdown",
      "metadata": {
        "collapsed": false,
        "id": "oqv3PFfLC7bD"
      },
      "source": [
        "## Initialization\n",
        "\n",
        "Import Python packages and intialize data array 'target'."
      ]
    },
    {
      "cell_type": "code",
      "execution_count": null,
      "metadata": {
        "id": "xf8seG1mIZc2"
      },
      "outputs": [],
      "source": [
        "import sys\n",
        "import math\n",
        "import numpy as np\n",
        "import matplotlib.pyplot as plt\n",
        "\n",
        "\n",
        "# The 8 columns of 'target' are the 8 possible site patterns which may be\n",
        "# observed at the three tips of the tree. These correspond to the site pattern\n",
        "# counts f_{++-}, ..., f_{-+-} in the paper.\n",
        "target = np.array([[1, 1, -1, -1, 1, 1, -1, -1],\n",
        "                   [1, 1, -1, -1, -1, -1, 1, 1],\n",
        "                   [-1, 1, -1, 1, 1, -1, 1, -1]])\n",
        "\n",
        "\n",
        "# The two paratemters below should be adjusted before each sampling \n",
        "# \\theta_{A}*\\theta_{B} is required to define the probability mass function\n",
        "# of X_i\n",
        "\n",
        "# x = \\theta_{A}*\\theta_{B}\n",
        "global x \n",
        "\n",
        "x = 0.5\n",
        " \n",
        "# length of a DNA sequence data set (sequence alignment) (one single data set)\n",
        "global n\n",
        "\n",
        "# n = 300 is a realistic DNA sequenece length for small protein\n",
        "n = 300\n"
      ]
    },
    {
      "cell_type": "markdown",
      "metadata": {
        "collapsed": false,
        "id": "zKu3zcgoC7bE"
      },
      "source": [
        "## Define ML Functions\n",
        "\n",
        "COMMENTARY: This section defines the key functions which, for each tree\n",
        "configuration, compute the relevant ML parameter estimates given the observed\n",
        "data. These functions implement the formulas derived in the paper; the\n",
        "parameters estimated are $\\tau, \\epsilon, \\delta, \\delta_1$, and $\\delta_2$,\n",
        "depending on the configuration. See the paper for details.\n",
        "\n",
        "NOTATION: The variables `count_ee`, `count_en`, `count_ne` and `count_nn`\n",
        "respectively correspond to the variables $f_{=.=}, f_{=,\\neq}, f_{\\neq,=}$ and\n",
        "$f_{\\neq,\\neq}$ defined in the paper. The variables `count_pos` and `count_neg`\n",
        "correspond respectively to the variables $f_{=}$ and $f_{\\neq}$ defined in the\n",
        "paper.\n"
      ]
    },
    {
      "cell_type": "code",
      "execution_count": null,
      "metadata": {
        "id": "OlV1HeXvJ-8G"
      },
      "outputs": [],
      "source": [
        "# CONFIGURATION 1.0\n",
        "# (θ_A)(θ_B) = τ, θ_C = 0\n",
        "# \n",
        "# input:  freq_vec.shape == (8, 1)\n",
        "# return: [τ]\n",
        "def config1_0(freq_vec):  \n",
        "  count_pos, count_neg = 0, 0\n",
        "  for i in range(0, 8):\n",
        "    if target[0][i] * target[1][i] == 1:\n",
        "      count_pos += freq_vec[i][0]\n",
        "    else:\n",
        "      count_neg += freq_vec[i][0]\n",
        "  opt = [(count_pos - count_neg)/(count_pos + count_neg)]\n",
        "  return opt, [count_pos, count_neg]\n",
        "\n",
        "# CONFIGURATION 2.0\n",
        "# θ_A = 1, θ_B = τ + ε, θ_C = δ\n",
        "# \n",
        "# input:  freq_vec.shape == (8, 1)\n",
        "# return: [τ + ε, δ]\n",
        "def config2_0(freq_vec):\n",
        "  count_ee, count_en, count_ne, count_nn = 0, 0, 0, 0\n",
        "  for i in range(0, 8):\n",
        "    if target[0][i] * target[1][i] == 1 and target[0][i] * target[2][i] == 1:\n",
        "      count_ee += freq_vec[i][0]\n",
        "    elif target[0][i] * target[1][i] == 1 and target[0][i] * target[2][i] == -1:\n",
        "      count_en += freq_vec[i][0]\n",
        "    elif target[0][i] * target[1][i] == -1 and target[0][i] * target[2][i] == 1:\n",
        "      count_ne += freq_vec[i][0]\n",
        "    else:\n",
        "      count_nn += freq_vec[i][0]\n",
        "  opt = [(count_ee + count_en - count_ne - count_nn)/(count_ee + count_en + count_ne + count_nn)]\n",
        "  opt.append((count_ee - count_en + count_ne - count_nn)/(count_ee + count_en + count_ne + count_nn))\n",
        "  return opt, [count_ee, count_en, count_ne, count_nn]\n",
        "\n",
        "# CONFIGURATION 2.1\n",
        "# θ_A = τ + ε, θ_B = 1, θ_C = δ\n",
        "# \n",
        "# input:  freq_vec.shape == (8, 1)\n",
        "# return: [τ + ε, δ]\n",
        "def config2_1(freq_vec):\n",
        "  count_ee, count_en, count_ne, count_nn = 0, 0, 0, 0\n",
        "  for i in range(0, 8):\n",
        "    if target[0][i] * target[1][i] == 1 and target[1][i] * target[2][i] == 1:\n",
        "      count_ee += freq_vec[i][0]\n",
        "    elif target[0][i] * target[1][i] == 1 and target[1][i] * target[2][i] == -1:\n",
        "      count_en += freq_vec[i][0]\n",
        "    elif target[0][i] * target[1][i] == -1 and target[1][i] * target[2][i] == 1:\n",
        "      count_ne += freq_vec[i][0]\n",
        "    else:\n",
        "      count_nn += freq_vec[i][0]\n",
        "  opt = [(count_ee + count_en - count_ne - count_nn)/(count_ee + count_en + count_ne + count_nn)]\n",
        "  opt.append((count_ee - count_en + count_ne - count_nn)/(count_ee + count_en + count_ne + count_nn))\n",
        "  return opt, [count_ee, count_en, count_ne, count_nn]\n",
        "\n",
        "# CONFIGURATION 3.0\n",
        "# (θ_A)(θ_B) = τ + ε, (θ_A)(θ_C) = δ₁, (θ_B)(θ_C) = δ₂\n",
        "# \n",
        "# input:  freq_vec.shape == (8, 1)\n",
        "# return: [τ + ε, δ₁, δ₂]\n",
        "def config3_0(freq_vec):\n",
        "  count_ee, count_en, count_ne, count_nn = 0, 0, 0, 0\n",
        "  for i in range(0, 8):\n",
        "    if target[0][i] * target[1][i] == 1 and target[0][i] * target[2][i] == 1:\n",
        "      count_ee += freq_vec[i][0]\n",
        "    elif target[0][i] * target[1][i] == 1 and target[0][i] * target[2][i] == -1:\n",
        "      count_en += freq_vec[i][0]\n",
        "    elif target[0][i] * target[1][i] == -1 and target[0][i] * target[2][i] == 1:\n",
        "      count_ne += freq_vec[i][0]\n",
        "    else:\n",
        "      count_nn += freq_vec[i][0]\n",
        "  opt = [(count_ee + count_en - count_ne - count_nn)/(count_ee + count_en + count_ne + count_nn)]\n",
        "  p_a = (count_ee - count_en)/(count_ee + count_en + count_ne + count_nn)\n",
        "  p_b = (count_ne - count_nn)/(count_ee + count_en + count_ne + count_nn)\n",
        "  p_c = 0.25 * ((2/(1+opt[0]))-(2/(1-opt[0])))\n",
        "  opt.append(((p_a/(1+opt[0]))-(p_b/(1-opt[0])))/p_c)\n",
        "  opt.append(((p_a/(1+opt[0]))+(p_b/(1-opt[0])))/p_c)\n",
        "  return opt, [count_ee, count_en, count_ne, count_nn]\n",
        "\n",
        "# CONFIGURATION 3.0 (Version 2)\n",
        "# DOES NOT USE TAYLOR EXPANSION\n",
        "# (theta_A)(theta_B) = tau + epsilon, (theta_A)(theta_C) = delta_1, (theta_B)(theta_C) = delta_2\n",
        "# \n",
        "# input:  freq_vec.shape == (8, 1)\n",
        "# return: [tau + epsilon, delta_1, delta_2]\n",
        "def config3_0v2(freq_vec):\n",
        "  count_ee, count_en, count_ne, count_nn = 0, 0, 0, 0\n",
        "  for i in range(0, 8):\n",
        "    if target[0][i] * target[1][i] == 1 and target[0][i] * target[2][i] == 1:\n",
        "      count_ee += freq_vec[i][0]\n",
        "    elif target[0][i] * target[1][i] == 1 and target[0][i] * target[2][i] == -1:\n",
        "      count_en += freq_vec[i][0]\n",
        "    elif target[0][i] * target[1][i] == -1 and target[0][i] * target[2][i] == 1:\n",
        "      count_ne += freq_vec[i][0]\n",
        "    else:\n",
        "      count_nn += freq_vec[i][0]\n",
        "  k = 1 / (count_en + count_ne + count_nn + count_ee)\n",
        "  opt = [k * (count_en - count_ne - count_nn + count_ee)]\n",
        "  opt.append(k * (-count_en + count_ne - count_nn + count_ee))\n",
        "  opt.append(k * (-count_en - count_ne + count_nn + count_ee))\n",
        "  return opt, [count_ee, count_en, count_ne, count_nn]"
      ]
    },
    {
      "cell_type": "code",
      "source": [
        "# Determines if the parameters returned by the ML functions are\n",
        "# valid or not, i.e. all parameters are in the interval [0, 1]\n",
        "#\n",
        "# input:  params\n",
        "# return: boolean\n",
        "def valid_params(params):\n",
        "  for k in params:\n",
        "    if k < 0 or k > 1:\n",
        "      return False\n",
        "  if len(params) == 3:\n",
        "    thetas = []\n",
        "    thetas.append(np.sqrt(params[0]*params[1]/params[2])) # T_A\n",
        "    thetas.append(np.sqrt(params[0]*params[2]/params[1])) # T_B\n",
        "    thetas.append(np.sqrt(params[1]*params[2]/params[0])) # T_C\n",
        "    for k in thetas:\n",
        "      if k < 0 or k > 1:\n",
        "        return False\n",
        "  return True\n",
        "\n",
        "# CONFIGURATION 1.0\n",
        "# Returns negative log-likelihood from parameters and data\n",
        "def nll_config1_0(params, counts):\n",
        "  if not valid_params(params):\n",
        "    return sys.maxsize\n",
        "  count_pos, count_neg = counts[0], counts[1]\n",
        "  a = count_pos * np.log((1 / 8.0) * (1 + params[0]))\n",
        "  b = count_neg * np.log((1 / 8.0) * (1 - params[0]))\n",
        "  return -1 * (a + b)\n",
        "\n",
        "# CONFIGURATION 2.0\n",
        "# Returns negative log-likelihood from parameters and data\n",
        "def nll_config2_0(params, counts):\n",
        "  if not valid_params(params):\n",
        "    return sys.maxsize\n",
        "  count_ee, count_en, count_ne, count_nn = counts[0], counts[1], counts[2], counts[3]\n",
        "  a = count_ee * np.log((1 / 8.0) * (1 + params[0] + params[1] + (params[0] * params[1])))\n",
        "  b = count_en * np.log((1 / 8.0) * (1 + params[0] - params[1] - (params[0] * params[1])))\n",
        "  c = count_ne * np.log((1 / 8.0) * (1 - params[0] + params[1] - (params[0] * params[1])))\n",
        "  d = count_nn * np.log((1 / 8.0) * (1 - params[0] - params[1] + (params[0] * params[1])))\n",
        "  return -1 * (a + b + c + d)\n",
        "\n",
        "# CONFIGURATION 2.1\n",
        "# Returns negative log-likelihood from parameters and data\n",
        "def nll_config2_1(params, counts):\n",
        "  if not valid_params(params):\n",
        "    return sys.maxsize\n",
        "  count_ee, count_en, count_ne, count_nn = counts[0], counts[1], counts[2], counts[3]\n",
        "  a = count_ee * np.log((1 / 8.0) * (1 + params[0] + params[1] + (params[0] * params[1])))\n",
        "  b = count_en * np.log((1 / 8.0) * (1 + params[0] - params[1] - (params[0] * params[1])))\n",
        "  c = count_ne * np.log((1 / 8.0) * (1 - params[0] + params[1] - (params[0] * params[1])))\n",
        "  d = count_nn * np.log((1 / 8.0) * (1 - params[0] - params[1] + (params[0] * params[1])))\n",
        "  return -1 * (a + b + c + d)\n",
        "\n",
        "# CONFIGURATION 3.0\n",
        "# Returns negative log-likelihood from parameters and data\n",
        "def nll_config3_0(params, counts):\n",
        "  if not valid_params(params):\n",
        "    return sys.maxsize\n",
        "  count_ee, count_en, count_ne, count_nn = counts[0], counts[1], counts[2], counts[3]\n",
        "  a = count_ee * np.log((1 / 8.0) * (1 + params[0] + params[1] + params[2]))\n",
        "  b = count_en * np.log((1 / 8.0) * (1 + params[0] - params[1] - params[2]))\n",
        "  c = count_ne * np.log((1 / 8.0) * (1 - params[0] + params[1] - params[2]))\n",
        "  d = count_nn * np.log((1 / 8.0) * (1 - params[0] - params[1] + params[2]))\n",
        "  return -1 * (a + b + c + d)\n",
        "\n",
        "# Returns negative log-likelihood of all configurations for given data\n",
        "def nll_configs(freq_vec):\n",
        "  vals1_0, counts1_0 = config1_0(freq_vec)\n",
        "  vals2_0, counts2_0 = config2_0(freq_vec)\n",
        "  vals2_1, counts2_1 = config2_1(freq_vec)\n",
        "  vals3_0, counts3_0 = config3_0(freq_vec)\n",
        "  vals3_0v2, counts3_0v2 = config3_0v2(freq_vec)\n",
        "\n",
        "  nll = []\n",
        "  nll.append(nll_config1_0(vals1_0, counts1_0))\n",
        "  nll.append(nll_config2_0(vals2_0, counts2_0))\n",
        "  nll.append(nll_config2_1(vals2_1, counts2_1))\n",
        "  nll.append(nll_config3_0(vals3_0, counts3_0))\n",
        "  nll.append(nll_config3_0(vals3_0v2, counts3_0v2))\n",
        "  return nll\n",
        "\n",
        "# Returns d_A / (d_A + d_B) for given data\n",
        "def min_nll(freq_vec):\n",
        "  vals1_0, counts1_0 = config1_0(freq_vec)\n",
        "  vals2_0, counts2_0 = config2_0(freq_vec)\n",
        "  vals2_1, counts2_1 = config2_1(freq_vec)\n",
        "  vals3_0, counts3_0 = config3_0(freq_vec)\n",
        "  vals3_0v2, counts3_0v2 = config3_0v2(freq_vec)\n",
        "\n",
        "  nll = []\n",
        "  nll.append(nll_config1_0(vals1_0, counts1_0))\n",
        "  nll.append(nll_config2_0(vals2_0, counts2_0))\n",
        "  nll.append(nll_config2_1(vals2_1, counts2_1))\n",
        "  nll.append(nll_config3_0(vals3_0, counts3_0))\n",
        "  nll.append(nll_config3_0(vals3_0v2, counts3_0v2))\n",
        "  min_config = np.argmin(nll)\n",
        "\n",
        "  d_ratio = -1\n",
        "\n",
        "  if min_config == 0:\n",
        "    d_ratio = 1/2\n",
        "  elif min_config == 1:\n",
        "    d_ratio = 0\n",
        "  elif min_config == 2:\n",
        "    d_ratio = 1\n",
        "  elif min_config == 3:\n",
        "    vals = vals3_0\n",
        "    # computing θ_A and θ_B\n",
        "    T_A = np.sqrt(vals[0]*vals[1]/vals[2])\n",
        "    T_B = np.sqrt(vals[0]*vals[2]/vals[1])\n",
        "    # computing d_A and d_B\n",
        "    d_A = -0.5 * np.log(T_A)\n",
        "    d_B = -0.5 * np.log(T_B)\n",
        "    d_ratio = d_A / (d_A + d_B)\n",
        "  elif min_config == 4:\n",
        "    vals = vals3_0v2\n",
        "    # computing θ_A and θ_B\n",
        "    T_A = np.sqrt(vals[0]*vals[1]/vals[2])\n",
        "    T_B = np.sqrt(vals[0]*vals[2]/vals[1])\n",
        "    # computing d_A and d_B\n",
        "    d_A = -0.5 * np.log(T_A)\n",
        "    d_B = -0.5 * np.log(T_B)\n",
        "    d_ratio = d_A / (d_A + d_B)\n",
        "\n",
        "  return min_config, nll[min_config], d_ratio"
      ],
      "metadata": {
        "id": "THUq6lBefP8D"
      },
      "execution_count": null,
      "outputs": []
    },
    {
      "cell_type": "markdown",
      "metadata": {
        "collapsed": false,
        "id": "6nfPHwOfC7bF"
      },
      "source": [
        "## Data\n",
        "\n",
        "COMMENTARY: Under our theoretical model, observed data takes the form of a\n",
        "multi-species alignment with three rows corresponding to the three leaves $A,B$\n",
        "and $C$ of the species tree. The sequences in the alignment consist of binary\n",
        "characters (i.e. each 'nucleotide' is either $+1$ or $-1$) and the sequences are\n",
        "of length $k$ (i.e. the number of samples). We assume a symmetric binary site\n",
        "substitution process. See the paper for additional details.\n",
        "\n",
        "Here, we generate data in the equivalent but more compact form of a vector of\n",
        "site pattern counts. This vector is drawn according to a multivariate\n",
        "distributions which approximates the asymptotic case of configuration 1, which\n",
        "is assumed to be the `true configuration` of the species tree we seek to estimate.\n",
        "The mean and covariance matrix for this multivariate Gaussian distribution are\n",
        "given as follows.\n"
      ]
    },
    {
      "cell_type": "code",
      "execution_count": null,
      "metadata": {
        "id": "rlyfOJ43NDhI"
      },
      "outputs": [],
      "source": [
        "# x = \\theta_{A}*\\theta_{B}\n",
        "\n",
        "# we take d_A = d_B = 0.1\n",
        "# \\theta_{A}*\\theta_{B} = e^(-0.4)\n",
        "x = math.exp(-0.4)\n",
        "\n",
        "# n = 300 is a realistic sequenece length for small protein\n",
        "n = 300\n",
        "\n",
        "prob = []\n",
        "for i in range(0, 8):\n",
        "  prob.append(1/8*(1+target[0, i]*target[1, i]*x))\n",
        "\n",
        "# By CLT, use Multi-Normal to approximate Multi-Nomial\n",
        "mean_vector = [n*q for q in prob]\n",
        "mean_vec = np.array(mean_vector)\n",
        "\n",
        "\n",
        "covariance_matrix = [[],[],[],[],[],[],[],[]]\n",
        "for i in range(0,8):\n",
        "  for j in range(0,8):\n",
        "    covariance_matrix[i].append(-1*n*prob[i]*prob[j])\n",
        "# replace diagonal with correct terms\n",
        "for i in range(0,8):\n",
        "  covariance_matrix[i][i] = n*prob[i]*(1-prob[i])\n",
        "\n",
        "cov_matrix = np.array(covariance_matrix)\n",
        "\n",
        "# mean vector and covariance matrix of the frequence counts\n",
        "mean = mean_vec\n",
        "cov = cov_matrix"
      ]
    },
    {
      "cell_type": "markdown",
      "metadata": {
        "collapsed": false,
        "id": "HIKpzFKJC7bG"
      },
      "source": [
        "## Analyze Data to Make Plot\n",
        "\n",
        "Finish this description -- mb 2022-04-16"
      ]
    },
    {
      "cell_type": "markdown",
      "source": [
        "#### Replication of Figure 3 of Parks and Goldman (2014).\n",
        "\n",
        "\n",
        "##### 1. Thrown away zero-length and infinite-length configurations (Config 1 & 2)\n",
        "We assume the position of branch C is strictly along the A-B path and no possibility to be attached to the tips (d_A\\/(d_A+d_B) $\\neq$ +infinity or 0)\n",
        "\n",
        "The plot is expected to show the number of different positions is uniformly distributed (The central part of each plot in Figure 3 of Parks and Goldman (2014))"
      ],
      "metadata": {
        "id": "ZY0UFWVi2vTC"
      }
    },
    {
      "cell_type": "code",
      "execution_count": null,
      "metadata": {
        "colab": {
          "base_uri": "https://localhost:8080/",
          "height": 299
        },
        "id": "CfSFKame78Cp",
        "outputId": "db2c53a5-8fd9-4905-96d1-0466230183b7"
      },
      "outputs": [
        {
          "output_type": "stream",
          "name": "stdout",
          "text": [
            "Samples thrown out:  6399\n"
          ]
        },
        {
          "output_type": "display_data",
          "data": {
            "text/plain": [
              "<Figure size 432x288 with 1 Axes>"
            ],
            "image/png": "[encoded data removed]"
          },
          "metadata": {
            "needs_background": "light"
          }
        }
      ],
      "source": [
        "ratio = []\n",
        "\n",
        "count_thrown = 0\n",
        "\n",
        "for i in range(1000):\n",
        "\n",
        "  rv = np.random.multivariate_normal(mean, cov).reshape((8, 1))\n",
        "  vals = config3_0v2(rv)[0]\n",
        "  valid = False\n",
        "  while True:\n",
        "    if vals[0] < 0 or vals[1] < 0 or vals[2] < 0: # negative parameters\n",
        "      rv = np.random.multivariate_normal(mean, cov).reshape((8, 1))\n",
        "      vals = config3_0v2(rv)[0]\n",
        "      count_thrown += 1\n",
        "      continue\n",
        "    if np.sqrt(vals[0]*vals[1]/vals[2]) > 1: # θ_A\n",
        "      rv = np.random.multivariate_normal(mean, cov).reshape((8, 1))\n",
        "      vals = config3_0v2(rv)[0]\n",
        "      count_thrown += 1\n",
        "      continue\n",
        "    if np.sqrt(vals[0]*vals[2]/vals[1]) > 1: # θ_B\n",
        "      rv = np.random.multivariate_normal(mean, cov).reshape((8, 1))\n",
        "      vals = config3_0v2(rv)[0]\n",
        "      count_thrown += 1\n",
        "      continue\n",
        "    break\n",
        "    \n",
        "  # computing θ_A and θ_B\n",
        "  T_A = np.sqrt(vals[0]*vals[1]/vals[2])\n",
        "  T_B = np.sqrt(vals[0]*vals[2]/vals[1])\n",
        "\n",
        "  # computing d_A and d_B\n",
        "  d_A = -0.5 * np.log(T_A)\n",
        "  d_B = -0.5 * np.log(T_B)\n",
        "\n",
        "  ratio.append(d_A / (d_A + d_B))\n",
        "\n",
        "print(\"Samples thrown out: \", count_thrown) # cases thrown out\n",
        "plt.hist(ratio, bins = 25, edgecolor = 'white')\n",
        "plt.title('d_A / (d_A + d_B)')\n",
        "plt.show()"
      ]
    },
    {
      "cell_type": "markdown",
      "source": [
        "##### 2. Taking both zero-length and infinite-length configurations into considerations\n",
        "\n",
        "Here we consider all the 3 configurations and take the one which gives us the maximum likelihood. Compute the corresponding estimated branch lengths and plot the position of the attach point of branch C along the A-B path. The placement of C is measured as a fraction along the A-B path. As d_C increases, the distribution starts to accumulate at the edges (tips) of the A-B path and in the center."
      ],
      "metadata": {
        "id": "JMS4Eji6H1bt"
      }
    },
    {
      "cell_type": "code",
      "execution_count": null,
      "metadata": {
        "id": "IWoP436Y85Ob",
        "colab": {
          "base_uri": "https://localhost:8080/",
          "height": 461
        },
        "outputId": "4a971250-57d4-4d93-adcb-47217e8d948a"
      },
      "outputs": [
        {
          "output_type": "stream",
          "name": "stderr",
          "text": [
            "/usr/local/lib/python3.7/dist-packages/ipykernel_launcher.py:13: RuntimeWarning: divide by zero encountered in double_scalars\n",
            "  del sys.path[0]\n",
            "/usr/local/lib/python3.7/dist-packages/ipykernel_launcher.py:12: RuntimeWarning: divide by zero encountered in double_scalars\n",
            "  if sys.path[0] == '':\n",
            "/usr/local/lib/python3.7/dist-packages/ipykernel_launcher.py:12: RuntimeWarning: invalid value encountered in double_scalars\n",
            "  if sys.path[0] == '':\n",
            "/usr/local/lib/python3.7/dist-packages/ipykernel_launcher.py:13: RuntimeWarning: invalid value encountered in double_scalars\n",
            "  del sys.path[0]\n"
          ]
        },
        {
          "output_type": "stream",
          "name": "stdout",
          "text": [
            "Samples thrown out:  1874\n"
          ]
        },
        {
          "output_type": "display_data",
          "data": {
            "text/plain": [
              "<Figure size 432x288 with 1 Axes>"
            ],
            "image/png": "[encoded data removed]"
          },
          "metadata": {
            "needs_background": "light"
          }
        }
      ],
      "source": [
        "ratio = []\n",
        "\n",
        "count_thrown = 0\n",
        "\n",
        "for i in range(5000):\n",
        "\n",
        "  rv = np.random.multivariate_normal(mean, cov).reshape((8, 1))\n",
        "  rv = rv.astype(int)\n",
        "  config, nll, position_ratio = min_nll(rv)\n",
        "  if config != 0:\n",
        "    ratio.append(position_ratio)\n",
        "  else:\n",
        "    count_thrown += 1\n",
        "\n",
        "print(\"Samples thrown out: \", count_thrown) # cases thrown out\n",
        "plt.hist(ratio, bins = 25, edgecolor = 'white')\n",
        "plt.title('d_A / (d_A + d_B)')\n",
        "plt.show()"
      ]
    }
  ],
  "metadata": {
    "colab": {
      "name": "Combined_File_(Analytical+Simulation).ipynb",
      "provenance": [],
      "collapsed_sections": [],
      "include_colab_link": true
    },
    "kernelspec": {
      "argv": [
        "python",
        "-m",
        "ipykernel_launcher",
        "-f",
        "{connection_file}"
      ],
      "display_name": "Python 3 (ipykernel)",
      "env": null,
      "interrupt_mode": "signal",
      "language": "python",
      "metadata": {
        "debugger": true
      },
      "name": "python3"
    },
    "language_info": {
      "codemirror_mode": {
        "name": "ipython",
        "version": 3
      },
      "file_extension": ".py",
      "mimetype": "text/x-python",
      "name": "python",
      "nbconvert_exporter": "python",
      "pygments_lexer": "ipython3",
      "version": "3.7.3"
    },
    "name": "Analytical_ML_v3.ipynb"
  },
  "nbformat": 4,
  "nbformat_minor": 0
}